{
 "cells": [
  {
   "cell_type": "markdown",
   "id": "a4fc5a88-719d-4e2b-a1d9-7a29ed116d77",
   "metadata": {},
   "source": [
    "# (Data Science Tools and Ecosystem)"
   ]
  },
  {
   "cell_type": "markdown",
   "id": "5c57b8e8-ebc8-4f7d-88fa-6d7ab306c6e9",
   "metadata": {},
   "source": [
    "# In this notebook, Data Science Tools and Ecosystem are summarized."
   ]
  },
  {
   "cell_type": "markdown",
   "id": "37630753-45a2-4228-ba86-a5e2aa13fb0d",
   "metadata": {},
   "source": [
    "***Objectives:***\n",
    "- List of popular languages for Data Science\n",
    "- List of popular Data Science Libraries\n",
    "- List of popular Data Science Tools"
   ]
  },
  {
   "cell_type": "markdown",
   "id": "fddefebe-be85-46c5-97aa-d08e7f09a694",
   "metadata": {},
   "source": [
    "## Author\n",
    "Daniel"
   ]
  },
  {
   "cell_type": "markdown",
   "id": "698366bd-c12a-4a6a-87b7-3e8c4b825b3f",
   "metadata": {},
   "source": [
    "1. Julia\n",
    "2. Python\n",
    "3. R"
   ]
  },
  {
   "cell_type": "code",
   "execution_count": 2,
   "id": "ccbdabec-632d-42af-87c6-35d5f35c5791",
   "metadata": {
    "tags": []
   },
   "outputs": [
    {
     "ename": "SyntaxError",
     "evalue": "invalid syntax (4133067979.py, line 1)",
     "output_type": "error",
     "traceback": [
      "\u001b[0;36m  Cell \u001b[0;32mIn[2], line 1\u001b[0;36m\u001b[0m\n\u001b[0;31m    1. Pandas\u001b[0m\n\u001b[0m       ^\u001b[0m\n\u001b[0;31mSyntaxError\u001b[0m\u001b[0;31m:\u001b[0m invalid syntax\n"
     ]
    }
   ],
   "source": [
    "1. Pandas\n",
    "2. NumPy\n",
    "3. SciPy"
   ]
  },
  {
   "cell_type": "markdown",
   "id": "25fe7ffa-8782-4bb3-8a9d-ba1a2fcc7544",
   "metadata": {},
   "source": [
    "1. Pandas\n",
    "2. NumPy\n",
    "3. SciPy"
   ]
  },
  {
   "cell_type": "markdown",
   "id": "cde526d5-ef82-45e4-993c-8e04e3c68921",
   "metadata": {},
   "source": [
    "|Data Science Tools |\n",
    "| ------ |\n",
    "| Jupyter Notebook |\n",
    "|Apache Spark|\n",
    "| Google Colab |\n"
   ]
  },
  {
   "cell_type": "markdown",
   "id": "95aaf89b-d071-41c8-93a7-5e1ad8cfcabe",
   "metadata": {},
   "source": [
    "### Below are a few examples of evaluating arithmetic expressions in Python"
   ]
  },
  {
   "cell_type": "markdown",
   "id": "86f3db6c-7e3c-41e9-965d-8829de39f59a",
   "metadata": {},
   "source": [
    "### Below are a few examples of evaluating arithmetic expressions in Python"
   ]
  },
  {
   "cell_type": "code",
   "execution_count": 3,
   "id": "ebd9c2df-cf41-461a-91ac-bdbcb4d7e818",
   "metadata": {
    "tags": []
   },
   "outputs": [
    {
     "data": {
      "text/plain": [
       "17"
      ]
     },
     "execution_count": 3,
     "metadata": {},
     "output_type": "execute_result"
    }
   ],
   "source": [
    "#This a simple arithmetic expression to mutiply then add integers\n",
    "(3*4)+5"
   ]
  },
  {
   "cell_type": "code",
   "execution_count": 4,
   "id": "a0cb37d2-9139-49f2-bd4c-0aa564071045",
   "metadata": {
    "tags": []
   },
   "outputs": [
    {
     "data": {
      "text/plain": [
       "3.3333333333333335"
      ]
     },
     "execution_count": 4,
     "metadata": {},
     "output_type": "execute_result"
    }
   ],
   "source": [
    "#his will convert 200 minutes to hours by diving by 60\n",
    "200/60"
   ]
  },
  {
   "cell_type": "code",
   "execution_count": 5,
   "id": "2800e9b5-df0c-4b0b-b775-86b88111ec4a",
   "metadata": {
    "tags": []
   },
   "outputs": [
    {
     "data": {
      "text/plain": [
       "3.3333333333333335"
      ]
     },
     "execution_count": 5,
     "metadata": {},
     "output_type": "execute_result"
    }
   ],
   "source": [
    "#This will convert 200 minutes to hours by diving by 60\n",
    "200/60"
   ]
  },
  {
   "cell_type": "code",
   "execution_count": null,
   "id": "edc313e6-4ac4-4d72-ae9a-96115d745339",
   "metadata": {},
   "outputs": [],
   "source": []
  }
 ],
 "metadata": {
  "kernelspec": {
   "display_name": "Python 3 (ipykernel)",
   "language": "python",
   "name": "python3"
  },
  "language_info": {
   "codemirror_mode": {
    "name": "ipython",
    "version": 3
   },
   "file_extension": ".py",
   "mimetype": "text/x-python",
   "name": "python",
   "nbconvert_exporter": "python",
   "pygments_lexer": "ipython3",
   "version": "3.11.4"
  }
 },
 "nbformat": 4,
 "nbformat_minor": 5
}
